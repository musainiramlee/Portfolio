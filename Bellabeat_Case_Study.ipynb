{
 "cells": [
  {
   "cell_type": "markdown",
   "metadata": {},
   "source": [
    "# **Google Data Analytics Professional Certificate (Capstone Project)**\n",
    "### Case Study: How Can a Wellness Technology Company Play It Smart?\n",
    "\n",
    "#### **Prepared By: Musaini Ramlee**"
   ]
  },
  {
   "cell_type": "markdown",
   "metadata": {},
   "source": [
    "#### **1) Introduction**\n",
    "\n",
    "Welcome to the Bellabeat data analysis case study!      \n",
    "In this case study, I will perform a real-world task of a junior data\n",
    "analyst for Bellabeat, a high-tech manufacturer of health-focused products for women. \n",
    "\n",
    "This case study will follow the steps of the data analysis process as laid out in *Google Data Analytics Professional Certificate* : **Ask, Prepare, Process, Analyze, Share,** and **Act**\n",
    "\n",
    "Bellabeat Products includes:\n",
    "\n",
    "* **Bellabeat app**: The Bellabeat app provides users with health data related to their activity, sleep, stress,\n",
    "menstrual cycle, and mindfulness habits. This data can help users better understand their current habits and\n",
    "make healthy decisions. The Bellabeat app connects to their line of smart wellness products.\n",
    "\n",
    "* **Leaf**: Bellabeat’s classic wellness tracker can be worn as a bracelet, necklace, or clip. The Leaf tracker connects\n",
    "to the Bellabeat app to track activity, sleep, and stress.\n",
    "\n",
    "* **Time**: This wellness watch combines the timeless look of a classic timepiece with smart technology to track user\n",
    "activity, sleep, and stress. The Time watch connects to the Bellabeat app to provide you with insights into your\n",
    "daily wellness.\n",
    "\n",
    "* **Spring**: This is a water bottle that tracks daily water intake using smart technology to ensure that you are\n",
    "appropriately hydrated throughout the day. The Spring bottle connects to the Bellabeat app to track your\n",
    "hydration levels.\n",
    "\n",
    "* **Bellabeat membership**: Bellabeat also offers a subscription-based membership program for users.\n",
    "Membership gives users 24/7 access to fully personalized guidance on nutrition, activity, sleep, health and\n",
    "beauty, and mindfulness based on their lifestyle and goals."
   ]
  },
  {
   "cell_type": "markdown",
   "metadata": {},
   "source": [
    "#### **2) Problem Statement (Business Tasks)**\n",
    "\n",
    "The co-founder of Bellabeat, Urška Sršen required an analysis on smart device usage by non-Bellabbeat smart device users in order to answer the following questions;\n",
    "\n",
    "i.\tWhat are some trends in smart device usage?   \n",
    "ii.\tHow could these trends apply to Bellabeat customers?   \n",
    "iii.\tHow could these trends help influence Bellabeat marketing strategy? \n"
   ]
  },
  {
   "cell_type": "markdown",
   "metadata": {},
   "source": [
    "#### **3) Data Sets**\n",
    "\n",
    "\n",
    "a.\t**Dataset Origin**: Sources of this dataset is from preprossesed [FitBit Fitness Tracker Data](https://www.kaggle.com/arashnic/fitbit). \n",
    "(CC0: Public Domain). The dataset is made available throug Mobius and is available to be downloaded on Kaggle.\n",
    "\n",
    "b.\t**Description**: This Kaggle data set contains personal fitness tracker from thirty fitbit users. Thirty eligible Fitbit users consented to the submission of personal tracker data, including minute-level output for physical activity, heart rate, and sleep monitoring. It includesinformation about daily activity, steps, and heart rate that can be used to explore users’ habits.\n"
   ]
  },
  {
   "cell_type": "code",
   "execution_count": null,
   "metadata": {},
   "outputs": [],
   "source": []
  }
 ],
 "metadata": {
  "kernelspec": {
   "display_name": "Python 3",
   "language": "python",
   "name": "python3"
  },
  "language_info": {
   "codemirror_mode": {
    "name": "ipython",
    "version": 3
   },
   "file_extension": ".py",
   "mimetype": "text/x-python",
   "name": "python",
   "nbconvert_exporter": "python",
   "pygments_lexer": "ipython3",
   "version": "3.8.5"
  }
 },
 "nbformat": 4,
 "nbformat_minor": 4
}
